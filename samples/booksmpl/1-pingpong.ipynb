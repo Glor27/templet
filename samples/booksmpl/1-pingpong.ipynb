{
 "cells": [
  {
   "cell_type": "raw",
   "metadata": {
    "tags": []
   },
   "source": [
    "process #pragma templet ..."
   ]
  },
  {
   "cell_type": "code",
   "execution_count": 3,
   "metadata": {
    "tags": []
   },
   "outputs": [
    {
     "name": "stdout",
     "output_type": "stream",
     "text": [
      "line:27\n",
      "!Ping(out!message)\n",
      "line:70\n",
      "Pong(in?message)\n",
      "Ok"
     ]
    }
   ],
   "source": [
    "!~/bin/acta 1-pingpong.hpp"
   ]
  },
  {
   "cell_type": "raw",
   "metadata": {},
   "source": [
    "run sample"
   ]
  },
  {
   "cell_type": "code",
   "execution_count": 2,
   "metadata": {},
   "outputs": [
    {
     "name": "stdout",
     "output_type": "stream",
     "text": [
      "Ping started..\n",
      "Pong recv message from Ping..\n",
      "Ping recv message from Pong..\n",
      "Success!!!\n"
     ]
    }
   ],
   "source": [
    "#pragma cling add_include_path(\"../../lib/\")\n",
    "#include \"1-pingpong.hpp\"\n",
    "{\n",
    "\tengine eng;\n",
    "    \n",
    "    Ping ping(eng);\n",
    "    Pong pong(eng);\n",
    "\n",
    "\tpong.in(ping.out);\n",
    "\n",
    "\teng.start();\n",
    "\n",
    "\tif (eng.stopped()) std::cout << \"Success!!!\" << std::endl;\n",
    "    else std::cout << \"Failure...\" << std::endl;\n",
    "}"
   ]
  }
 ],
 "metadata": {
  "kernelspec": {
   "display_name": "C++11",
   "language": "C++11",
   "name": "xcpp11"
  },
  "language_info": {
   "codemirror_mode": "text/x-c++src",
   "file_extension": ".cpp",
   "mimetype": "text/x-c++src",
   "name": "c++",
   "version": "11"
  }
 },
 "nbformat": 4,
 "nbformat_minor": 4
}
